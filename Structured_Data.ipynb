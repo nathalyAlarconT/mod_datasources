{
  "nbformat": 4,
  "nbformat_minor": 0,
  "metadata": {
    "colab": {
      "name": "Structured_Data_SC2019.ipynb",
      "provenance": [],
      "collapsed_sections": [],
      "toc_visible": true,
      "include_colab_link": true
    },
    "kernelspec": {
      "name": "python3",
      "display_name": "Python 3"
    }
  },
  "cells": [
    {
      "cell_type": "markdown",
      "metadata": {
        "id": "view-in-github",
        "colab_type": "text"
      },
      "source": [
        "<a href=\"https://colab.research.google.com/github/nathalyAlarconT/mod_datasources/blob/master/Structured_Data.ipynb\" target=\"_parent\"><img src=\"https://colab.research.google.com/assets/colab-badge.svg\" alt=\"Open In Colab\"/></a>"
      ]
    },
    {
      "cell_type": "markdown",
      "metadata": {
        "id": "1poTm4u7eC1B",
        "colab_type": "text"
      },
      "source": [
        "# Exploración de datos estructurados\n"
      ]
    },
    {
      "cell_type": "code",
      "metadata": {
        "id": "jYc78ET4d7D1",
        "colab_type": "code",
        "colab": {}
      },
      "source": [
        "import pandas as pd\n",
        "import matplotlib.pyplot as plt\n",
        "%matplotlib inline"
      ],
      "execution_count": 0,
      "outputs": []
    },
    {
      "cell_type": "code",
      "metadata": {
        "id": "DlB8ZjOGYK0H",
        "colab_type": "code",
        "colab": {}
      },
      "source": [
        "# Dataset Source\n",
        "# https://www.kaggle.com/AnalyzeBoston/crimes-in-boston/\n",
        "# Descarga los datos, se encuentran en formato zip y despues cargalos en tu ambiente de colab"
      ],
      "execution_count": 0,
      "outputs": []
    },
    {
      "cell_type": "code",
      "metadata": {
        "id": "YoezCUqnX9dO",
        "colab_type": "code",
        "colab": {}
      },
      "source": [
        "!unzip crimes-in-boston.zip"
      ],
      "execution_count": 0,
      "outputs": []
    },
    {
      "cell_type": "code",
      "metadata": {
        "id": "dNlXKlO_0C-P",
        "colab_type": "code",
        "colab": {}
      },
      "source": [
        "!ls -lh"
      ],
      "execution_count": 0,
      "outputs": []
    },
    {
      "cell_type": "code",
      "metadata": {
        "id": "ju3YhI52eUbx",
        "colab_type": "code",
        "colab": {}
      },
      "source": [
        "source_file = 'crime.csv'"
      ],
      "execution_count": 0,
      "outputs": []
    },
    {
      "cell_type": "code",
      "metadata": {
        "id": "fMLNaCCfeCCJ",
        "colab_type": "code",
        "colab": {}
      },
      "source": [
        "# Creamos un dataframe a partir del archivo csv descargado\n",
        "df_crimes = pd.read_csv(source_file,  encoding='latin-1')"
      ],
      "execution_count": 0,
      "outputs": []
    },
    {
      "cell_type": "code",
      "metadata": {
        "id": "oXtEqQAuZr69",
        "colab_type": "code",
        "colab": {}
      },
      "source": [
        "# Cuál es el tamaño del dataset?\n",
        "df_crimes.shape"
      ],
      "execution_count": 0,
      "outputs": []
    },
    {
      "cell_type": "code",
      "metadata": {
        "id": "_LYo9TnN1_03",
        "colab_type": "code",
        "colab": {}
      },
      "source": [
        "df_crimes.describe()"
      ],
      "execution_count": 0,
      "outputs": []
    },
    {
      "cell_type": "code",
      "metadata": {
        "id": "Tdl9b9xaYVw-",
        "colab_type": "code",
        "colab": {}
      },
      "source": [
        "# Exploremos el dataset, observemos los primeros registros\n",
        "df_crimes.head(5)"
      ],
      "execution_count": 0,
      "outputs": []
    },
    {
      "cell_type": "code",
      "metadata": {
        "id": "IslGL5xSZlEH",
        "colab_type": "code",
        "colab": {}
      },
      "source": [
        "# Exploremos el dataset, observemos los últimos registros\n",
        "df_crimes.tail(5)"
      ],
      "execution_count": 0,
      "outputs": []
    },
    {
      "cell_type": "code",
      "metadata": {
        "id": "jhRAjzTMaDWs",
        "colab_type": "code",
        "colab": {}
      },
      "source": [
        "# Exploremos el dataset, tomemos una muestra aleatoria\n",
        "df_crimes.sample(5)"
      ],
      "execution_count": 0,
      "outputs": []
    },
    {
      "cell_type": "code",
      "metadata": {
        "id": "f3fs-S9QaJ6v",
        "colab_type": "code",
        "colab": {}
      },
      "source": [
        "# De qué columnas disponemos?\n",
        "df_crimes.columns"
      ],
      "execution_count": 0,
      "outputs": []
    },
    {
      "cell_type": "markdown",
      "metadata": {
        "id": "v-n1QzkGA2AZ",
        "colab_type": "text"
      },
      "source": [
        "# Ejercicio 1:\n",
        "######################################################## \n",
        "- ¿Qué preguntas plantearías sobre el dataset?\n",
        "\n",
        "########################################################"
      ]
    },
    {
      "cell_type": "code",
      "metadata": {
        "id": "NzWF87QIaWRx",
        "colab_type": "code",
        "colab": {}
      },
      "source": [
        "# Procedamos a cargar el segundo dataset que contiene el detalle \"offense_codes\"\n",
        "df_offenses = pd.read_csv('offense_codes.csv', encoding='latin-1')\n",
        "# Veamos el tamaño del dataset\n",
        "print (df_offenses.shape)\n",
        "# Examinemos las primeras filas \n",
        "df_offenses.head()"
      ],
      "execution_count": 0,
      "outputs": []
    },
    {
      "cell_type": "code",
      "metadata": {
        "id": "vpErl5f9bSOT",
        "colab_type": "code",
        "colab": {}
      },
      "source": [
        "# Renombremos la columna 'NAME' \n",
        "df_offenses.rename(columns={'NAME': 'OFFENSE_NAME', 'CODE': 'OFFENSE_CODE' }, inplace=True)"
      ],
      "execution_count": 0,
      "outputs": []
    },
    {
      "cell_type": "code",
      "metadata": {
        "id": "klh4U-pacSMR",
        "colab_type": "code",
        "colab": {}
      },
      "source": [
        "# Observen que el nombre de la columna ha cambiado.\n",
        "df_offenses.head()"
      ],
      "execution_count": 0,
      "outputs": []
    },
    {
      "cell_type": "code",
      "metadata": {
        "id": "ce7jGNjwesFu",
        "colab_type": "code",
        "colab": {}
      },
      "source": [
        "# Ordenamos el dataset por el código... observen que existen códigos duplicados\n",
        "df_offenses.sort_values(by='OFFENSE_CODE',  inplace=True)\n",
        "df_offenses.head(15)\n"
      ],
      "execution_count": 0,
      "outputs": []
    },
    {
      "cell_type": "code",
      "metadata": {
        "id": "Dvn0izjnfM2E",
        "colab_type": "code",
        "colab": {}
      },
      "source": [
        "# Vamos a eliminar los registros duplicados\n",
        "df_offenses.drop_duplicates(subset=[\"OFFENSE_CODE\"], keep='first', inplace=True)\n",
        "# Verifiquemos nuevamente las dimensiones del dataset\n",
        "print(df_offenses.shape)\n",
        "# Veamos el dataset nuevamente , para comprobar que se eliminaron los duplicados\n",
        "df_offenses.head(15)"
      ],
      "execution_count": 0,
      "outputs": []
    },
    {
      "cell_type": "code",
      "metadata": {
        "id": "bWjsAtnXcUF7",
        "colab_type": "code",
        "colab": {}
      },
      "source": [
        "# Vamos a unir el dataset de crime y el dataset de offenses\n",
        "# df_crimes    con    df_ofenses haciendo uso de la columna: OFFENSE_CODE\n",
        "\n",
        "df_crimes = df_crimes.merge(df_offenses, how='left', on='OFFENSE_CODE')\n",
        "df_crimes.head()"
      ],
      "execution_count": 0,
      "outputs": []
    },
    {
      "cell_type": "code",
      "metadata": {
        "id": "wSQ7qI8Mdi7a",
        "colab_type": "code",
        "colab": {}
      },
      "source": [
        "# La nueva columna ha sido adicionada al final del dataset.\n",
        "# Ahora comprobemos las nuevas dimensiones de nuestro dataset\n",
        "df_crimes.shape "
      ],
      "execution_count": 0,
      "outputs": []
    },
    {
      "cell_type": "code",
      "metadata": {
        "id": "TJ2fFNMLdvh-",
        "colab_type": "code",
        "colab": {}
      },
      "source": [
        "# Observemos los tipos de datos con los que cuenta el dataset\n",
        "df_crimes.dtypes"
      ],
      "execution_count": 0,
      "outputs": []
    },
    {
      "cell_type": "code",
      "metadata": {
        "id": "FRM-hL3tgN6j",
        "colab_type": "code",
        "colab": {}
      },
      "source": [
        "# Transformemos la columna OCCURRED_ON_DATE a formato fecha \n",
        "df_crimes['OCCURRED_ON_DATE'] = pd.to_datetime(df_crimes['OCCURRED_ON_DATE'])\n",
        "df_crimes.head()"
      ],
      "execution_count": 0,
      "outputs": []
    },
    {
      "cell_type": "code",
      "metadata": {
        "id": "YOb2-1ZVhEnW",
        "colab_type": "code",
        "colab": {}
      },
      "source": [
        "# Qué día de la semana ocurren más incidentes?\n",
        "df_crimes['DAY_OF_WEEK'].value_counts()"
      ],
      "execution_count": 0,
      "outputs": []
    },
    {
      "cell_type": "markdown",
      "metadata": {
        "id": "BvwXhGzPE77M",
        "colab_type": "text"
      },
      "source": [
        "# Ejercicio 2:\n",
        "######################################################## \n",
        "- ¿En cuál hora del día ocurren más incidentes ?\n",
        "\n",
        "########################################################"
      ]
    },
    {
      "cell_type": "code",
      "metadata": {
        "id": "ictRKFRhE68q",
        "colab_type": "code",
        "colab": {}
      },
      "source": [
        ""
      ],
      "execution_count": 0,
      "outputs": []
    },
    {
      "cell_type": "code",
      "metadata": {
        "id": "nCCmluakhf_N",
        "colab_type": "code",
        "colab": {}
      },
      "source": [
        "# Qué tipo de crimenes se cometen más?\n",
        "df_crimes.groupby(['OFFENSE_NAME']).count()['INCIDENT_NUMBER'].sort_values(ascending=False )"
      ],
      "execution_count": 0,
      "outputs": []
    },
    {
      "cell_type": "code",
      "metadata": {
        "id": "q2p6ljXPjVJ1",
        "colab_type": "code",
        "colab": {}
      },
      "source": [
        "# Qué días desaparecieron más las personas\n",
        "df_crimes.loc[df_crimes['OFFENSE_NAME'] == 'MISSING PERSON', 'DAY_OF_WEEK'].value_counts().plot.bar()"
      ],
      "execution_count": 0,
      "outputs": []
    },
    {
      "cell_type": "code",
      "metadata": {
        "id": "e5KWnDZGiDSw",
        "colab_type": "code",
        "colab": {}
      },
      "source": [
        "df_crimes.describe()"
      ],
      "execution_count": 0,
      "outputs": []
    },
    {
      "cell_type": "code",
      "metadata": {
        "id": "P5i_N57cis9M",
        "colab_type": "code",
        "colab": {}
      },
      "source": [
        "df_crimes.info()"
      ],
      "execution_count": 0,
      "outputs": []
    },
    {
      "cell_type": "code",
      "metadata": {
        "id": "wDOnr5Eqk1Gs",
        "colab_type": "code",
        "colab": {}
      },
      "source": [
        "# Cuáles son los delitos que implican tiroteos?\n",
        "df_crimes['SHOOTING'].unique()"
      ],
      "execution_count": 0,
      "outputs": []
    },
    {
      "cell_type": "code",
      "metadata": {
        "id": "kRJRap8vlM4R",
        "colab_type": "code",
        "colab": {}
      },
      "source": [
        "# Los registros que tengan el valor de nan ahora les asignaremos el valor de \"N\"\n",
        "df_crimes['SHOOTING'].fillna('N', inplace=True)\n",
        "df_crimes['SHOOTING'].unique()"
      ],
      "execution_count": 0,
      "outputs": []
    },
    {
      "cell_type": "code",
      "metadata": {
        "id": "qMlbWGyAlqai",
        "colab_type": "code",
        "colab": {}
      },
      "source": [
        "df_crimes.loc[df_crimes['OFFENSE_NAME'] == 'MISSING PERSON'].groupby('DISTRICT').count()['INCIDENT_NUMBER']"
      ],
      "execution_count": 0,
      "outputs": []
    },
    {
      "cell_type": "code",
      "metadata": {
        "id": "NPBhH_VpmBvo",
        "colab_type": "code",
        "colab": {}
      },
      "source": [
        "# Vamos a crear una columna de la fecha del incidente en un nuevo formato que solo contenga la fecha del incidente y no la hora \n",
        "df_crimes['OCCURRED_ON_DATE_DAY'] = pd.to_datetime(df_crimes['OCCURRED_ON_DATE'].dt.strftime('%Y-%m-%d'))\n",
        "df_crimes.head()"
      ],
      "execution_count": 0,
      "outputs": []
    },
    {
      "cell_type": "code",
      "metadata": {
        "id": "v73zqVOKoIx0",
        "colab_type": "code",
        "colab": {}
      },
      "source": [
        "df_crimes_per_day = df_crimes.groupby(by=['OCCURRED_ON_DATE_DAY']).count()['INCIDENT_NUMBER'].reset_index()\n",
        "df_crimes_per_day"
      ],
      "execution_count": 0,
      "outputs": []
    },
    {
      "cell_type": "code",
      "metadata": {
        "id": "9oVqgMRcnhVv",
        "colab_type": "code",
        "colab": {}
      },
      "source": [
        "\n",
        "df_crimes_per_day.plot(x='OCCURRED_ON_DATE_DAY', y='INCIDENT_NUMBER'  )"
      ],
      "execution_count": 0,
      "outputs": []
    },
    {
      "cell_type": "code",
      "metadata": {
        "id": "LNuTC9-1xy2B",
        "colab_type": "code",
        "colab": {}
      },
      "source": [
        "import plotly.express as px"
      ],
      "execution_count": 0,
      "outputs": []
    },
    {
      "cell_type": "code",
      "metadata": {
        "id": "OshKPMOPsUya",
        "colab_type": "code",
        "colab": {}
      },
      "source": [
        "px.line(df_crimes_per_day, x='OCCURRED_ON_DATE_DAY', y='INCIDENT_NUMBER',   )"
      ],
      "execution_count": 0,
      "outputs": []
    },
    {
      "cell_type": "markdown",
      "metadata": {
        "id": "y41TW38C83x6",
        "colab_type": "text"
      },
      "source": [
        "https://plot.ly/python/plotly-express/"
      ]
    },
    {
      "cell_type": "code",
      "metadata": {
        "id": "d7Bjtr8Xsno6",
        "colab_type": "code",
        "colab": {}
      },
      "source": [
        "# Vamos a guardar el dataset resultante en un nuevo archivo csv\n",
        "df_crimes_per_day.to_csv('resultado_crimes_per_day.csv')"
      ],
      "execution_count": 0,
      "outputs": []
    },
    {
      "cell_type": "markdown",
      "metadata": {
        "id": "onlifPW_FVBu",
        "colab_type": "text"
      },
      "source": [
        "# Ejercicio 3:\n",
        "######################################################## \n",
        "- ¿Encuentras alguna tendencia/patrón en el gráfico?\n",
        "\n",
        "########################################################"
      ]
    },
    {
      "cell_type": "code",
      "metadata": {
        "id": "nLco4uf66EOI",
        "colab_type": "code",
        "colab": {}
      },
      "source": [
        ""
      ],
      "execution_count": 0,
      "outputs": []
    }
  ]
}