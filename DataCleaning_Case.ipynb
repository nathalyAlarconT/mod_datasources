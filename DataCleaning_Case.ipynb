{
  "nbformat": 4,
  "nbformat_minor": 0,
  "metadata": {
    "kernelspec": {
      "display_name": "Python 3",
      "language": "python",
      "name": "python3"
    },
    "language_info": {
      "codemirror_mode": {
        "name": "ipython",
        "version": 3
      },
      "file_extension": ".py",
      "mimetype": "text/x-python",
      "name": "python",
      "nbconvert_exporter": "python",
      "pygments_lexer": "ipython3",
      "version": "3.7.1"
    },
    "colab": {
      "name": "Data_Cleaning_Case.ipynb",
      "provenance": [],
      "include_colab_link": true
    }
  },
  "cells": [
    {
      "cell_type": "markdown",
      "metadata": {
        "id": "view-in-github",
        "colab_type": "text"
      },
      "source": [
        "<a href=\"https://colab.research.google.com/github/nathalyAlarconT/mod_datasources/blob/master/DataCleaning_Case.ipynb\" target=\"_parent\"><img src=\"https://colab.research.google.com/assets/colab-badge.svg\" alt=\"Open In Colab\"/></a>"
      ]
    },
    {
      "cell_type": "code",
      "metadata": {
        "id": "6c0cYelAq9xK",
        "colab_type": "code",
        "colab": {}
      },
      "source": [
        "# Importamos las librerias necesarias\n",
        "\n",
        "import pandas as pd\n",
        "import numpy as np\n",
        "import seaborn as sns\n",
        "import matplotlib as mpl\n",
        "import matplotlib.pyplot as plt\n",
        "\n",
        "%matplotlib inline"
      ],
      "execution_count": null,
      "outputs": []
    },
    {
      "cell_type": "code",
      "metadata": {
        "id": "nSSXQxy6uzYf",
        "colab_type": "code",
        "colab": {}
      },
      "source": [
        "def get_gdrive_file_url(orig_url):\n",
        "  file_id = orig_url.split('/')[-2]\n",
        "  dwn_url='https://drive.google.com/uc?export=download&id=' + file_id\n",
        "  return dwn_url"
      ],
      "execution_count": null,
      "outputs": []
    },
    {
      "cell_type": "code",
      "metadata": {
        "id": "rgDmnNVXq9xP",
        "colab_type": "code",
        "colab": {}
      },
      "source": [
        "# Descargamos y leemos el data set\n",
        "file_url = \"https://drive.google.com/file/d/1ZfI1Dpq3UMwGCE6VsXzzCkXg5SCylwu2/view?usp=sharing\"\n",
        "file_path = get_gdrive_file_url(file_url)\n",
        "df = pd.read_csv(file_path, delimiter = ';')\n",
        "\n",
        "print('Dataset descargado y listo!')"
      ],
      "execution_count": null,
      "outputs": []
    },
    {
      "cell_type": "code",
      "metadata": {
        "id": "cu8MY4baq9xW",
        "colab_type": "code",
        "colab": {}
      },
      "source": [
        "# Vemos las primeras 5 filas del dataset\n",
        "\n",
        "df.head(15)"
      ],
      "execution_count": null,
      "outputs": []
    },
    {
      "cell_type": "code",
      "metadata": {
        "id": "qxBQRprpq9xa",
        "colab_type": "code",
        "colab": {}
      },
      "source": [
        "# Vemos la dimensión del dataset\n",
        "\n",
        "df.shape"
      ],
      "execution_count": null,
      "outputs": []
    },
    {
      "cell_type": "code",
      "metadata": {
        "id": "-vkzHzFRq9xe",
        "colab_type": "code",
        "colab": {}
      },
      "source": [
        "# Se verifica el tipo de datos por columnas para revisar si no existe incongruencia de tipo.\n",
        "\n",
        "df.dtypes"
      ],
      "execution_count": null,
      "outputs": []
    },
    {
      "cell_type": "code",
      "metadata": {
        "id": "hiPV7kBXq9xj",
        "colab_type": "code",
        "colab": {}
      },
      "source": [
        "# Conteo de Valores por columna\n",
        "\n",
        "df.count()"
      ],
      "execution_count": null,
      "outputs": []
    },
    {
      "cell_type": "markdown",
      "metadata": {
        "id": "z1eVES94q9xn",
        "colab_type": "text"
      },
      "source": [
        "## Identificacion de Missing Values"
      ]
    },
    {
      "cell_type": "markdown",
      "metadata": {
        "id": "hxBFm9Wiq9xo",
        "colab_type": "text"
      },
      "source": [
        "Para identificar missing values, utilizamos los metodos `.isnull()` o `.notnull()`"
      ]
    },
    {
      "cell_type": "code",
      "metadata": {
        "id": "47-f-OMsq9xp",
        "colab_type": "code",
        "colab": {}
      },
      "source": [
        "# Creamos un nuevo dataframe indicando los missing values\n",
        "\n",
        "missing_data = df.isnull()\n",
        "\n",
        "missing_data.head(15)"
      ],
      "execution_count": null,
      "outputs": []
    },
    {
      "cell_type": "markdown",
      "metadata": {
        "id": "QPZBJSC9q9xt",
        "colab_type": "text"
      },
      "source": [
        "los valores `True` son considerados missing values y los valores `False` son considerados como datos."
      ]
    },
    {
      "cell_type": "markdown",
      "metadata": {
        "id": "Vi0qoNetq9xu",
        "colab_type": "text"
      },
      "source": [
        "### Conteo de missing values por columna\n",
        "\n",
        "Usando un `for` loop podemos saber el número de missing values por columna"
      ]
    },
    {
      "cell_type": "code",
      "metadata": {
        "id": "BvSsNr6Qq9xv",
        "colab_type": "code",
        "colab": {}
      },
      "source": [
        "for column in missing_data.columns.values.tolist():\n",
        "    \n",
        "    print(column)\n",
        "    print(missing_data[column].value_counts())\n",
        "    print('')"
      ],
      "execution_count": null,
      "outputs": []
    },
    {
      "cell_type": "markdown",
      "metadata": {
        "id": "i_SSVrAVq9xy",
        "colab_type": "text"
      },
      "source": [
        "Basados en el resúmen anterior, cada columna tiene 91713 filas de datos y una alta cantidad de columnas contiene missing values:\n",
        "\n",
        "1. **'age':** 4228 missing data\n",
        "2. **'bmi':** 3429 missing data\n",
        "3. **'ethnicity':** 1395 missing data\n",
        "4. **'gender':** 25 missing data\n",
        "5. **'heigth':** 1334 missing data\n",
        "6. **'hospital_admit_source':** 21409 missing data\n",
        "7. **'icu_admit_source':** 112 missing data\n",
        "8. **'weight':** 2720 missing data\n",
        "9. **'aids':** 715 missing data\n",
        "10. **'cirrhosis':** 715 missing data\n",
        "11. **'diabetes_mellitus':** 715 missing data\n",
        "12. **'hepatic_failure':** 715 missing data\n",
        "13. **'inmunosuppression':** 715 missing data\n",
        "14. **'leukemia':** 715 missing data\n",
        "15. **'lymphoma':** 715 missing data\n",
        "16. **'solid_tumor_with_metastasis':** 715 missing data\n",
        "17. **'apache_2_bodysystem':** 1662 missing data\n",
        "\n"
      ]
    },
    {
      "cell_type": "markdown",
      "metadata": {
        "id": "9b640Ep6q9xz",
        "colab_type": "text"
      },
      "source": [
        "## Cómo tratar con missing data\n",
        "\n",
        "Existen 2 formas de tartar con missing data:\n",
        "\n",
        "1. **drop data (Borrar data)**\n",
        "\n",
        "    - borrar toda la fila\n",
        "    - borrar toda la columna\n",
        "\n",
        "\n",
        "2. **replace data (Reemplazar data)**\n",
        "\n",
        "    - Reemplazar con la **Media**\n",
        "    - Reemplazar con la **Moda**\n",
        "    - Reemplazar en base a otras funciones"
      ]
    },
    {
      "cell_type": "code",
      "metadata": {
        "id": "bxFdLzX9q9xz",
        "colab_type": "code",
        "colab": {}
      },
      "source": [
        "# Creamos un dataframe únicamente con las columnas que presentan missing values\n",
        "\n",
        "df_missing = df[['age', \n",
        "                'bmi', \n",
        "                'ethnicity', \n",
        "                'gender', \n",
        "                'height', \n",
        "                'hospital_admit_source', \n",
        "                'icu_admit_source',\n",
        "                'weight',\n",
        "                'aids',\n",
        "                'cirrhosis',\n",
        "                'diabetes_mellitus', \n",
        "                'hepatic_failure',\n",
        "                'immunosuppression',\n",
        "                'leukemia',\n",
        "                'lymphoma',\n",
        "                'solid_tumor_with_metastasis',\n",
        "                'apache_2_bodysystem'\n",
        "               ]]\n",
        "\n",
        "df_missing.describe(include = 'all')"
      ],
      "execution_count": null,
      "outputs": []
    },
    {
      "cell_type": "markdown",
      "metadata": {
        "id": "ZQufBnYJq9x3",
        "colab_type": "text"
      },
      "source": [
        "Graficamos la distribución de las columnas con missing values"
      ]
    },
    {
      "cell_type": "code",
      "metadata": {
        "id": "ymynEwiUq9x3",
        "colab_type": "code",
        "colab": {}
      },
      "source": [
        "mpl.style.use(['ggplot']) "
      ],
      "execution_count": null,
      "outputs": []
    },
    {
      "cell_type": "code",
      "metadata": {
        "id": "lkHk1K80q9x7",
        "colab_type": "code",
        "colab": {}
      },
      "source": [
        "sns.boxplot(data = df_missing['age'], color = 'green')\n",
        "plt.ylabel('Count')\n",
        "plt.xlabel('Age')\n",
        "plt.show()"
      ],
      "execution_count": null,
      "outputs": []
    },
    {
      "cell_type": "code",
      "metadata": {
        "id": "XWznVmEiq9x-",
        "colab_type": "code",
        "colab": {}
      },
      "source": [
        "df_missing['age'].plot.hist(bins = 8)\n",
        "\n",
        "plt.xlabel('Age')\n",
        "plt.ylabel('Count')\n",
        "plt.show()"
      ],
      "execution_count": null,
      "outputs": []
    },
    {
      "cell_type": "code",
      "metadata": {
        "id": "j8EZ-tQVq9yB",
        "colab_type": "code",
        "colab": {}
      },
      "source": [
        "df_missing['hospital_admit_source'].value_counts().plot.bar()\n",
        "\n",
        "plt.show()"
      ],
      "execution_count": null,
      "outputs": []
    },
    {
      "cell_type": "code",
      "metadata": {
        "id": "9pKGVN0bq9yE",
        "colab_type": "code",
        "colab": {}
      },
      "source": [
        "dummie1 = pd.get_dummies(df_missing['hospital_admit_source'])\n",
        "\n",
        "dummie1"
      ],
      "execution_count": null,
      "outputs": []
    },
    {
      "cell_type": "code",
      "metadata": {
        "id": "y24P6Hmpq9yI",
        "colab_type": "code",
        "colab": {}
      },
      "source": [
        "to_drop = df_missing[df_missing['aids'].isnull()]\n",
        "to_drop"
      ],
      "execution_count": null,
      "outputs": []
    },
    {
      "cell_type": "code",
      "metadata": {
        "id": "A7XJgqrEq9yL",
        "colab_type": "code",
        "colab": {}
      },
      "source": [
        "# Borramos los 715 datos \n",
        "\n",
        "df.drop(axis = 0, index = to_drop.index, inplace = True)"
      ],
      "execution_count": null,
      "outputs": []
    },
    {
      "cell_type": "code",
      "metadata": {
        "id": "y4klcFGWq9yO",
        "colab_type": "code",
        "colab": {}
      },
      "source": [
        "df.shape"
      ],
      "execution_count": null,
      "outputs": []
    },
    {
      "cell_type": "code",
      "metadata": {
        "id": "sXimCQ60q9yR",
        "colab_type": "code",
        "colab": {}
      },
      "source": [
        "# La variable no es relevante para el análisis del caso práctico y que la cantidad de missing values equivale al 23% aproximadamente, borramos toda la columna\n",
        "\n",
        "df.drop(axis = 1, columns = 'hospital_admit_source', inplace = True)"
      ],
      "execution_count": null,
      "outputs": []
    },
    {
      "cell_type": "code",
      "metadata": {
        "id": "ixcOgH3nq9yV",
        "colab_type": "code",
        "colab": {}
      },
      "source": [
        "df.shape"
      ],
      "execution_count": null,
      "outputs": []
    },
    {
      "cell_type": "markdown",
      "metadata": {
        "id": "wGwkMW86q9yY",
        "colab_type": "text"
      },
      "source": [
        "Luego de limpiar el dataset mediante filas y columnas solo existen 7 variables por lidiar:\n",
        "\n",
        "1. **'age':** 4228 missing data\n",
        "2. **'bmi':** 3429 missing data\n",
        "3. **'ethnicity':** 1395 missing data\n",
        "4. **'gender':** 25 missing data\n",
        "5. **'height':** 1334 missing data\n",
        "6. **'icu_admit_source':** 112 missing data\n",
        "7. **'weight':** 2720 missing data\n",
        "8. **'apache_2_bodysystem':** 1662 missing data"
      ]
    },
    {
      "cell_type": "code",
      "metadata": {
        "id": "sOI5Xr0bq9yY",
        "colab_type": "code",
        "colab": {}
      },
      "source": [
        "fig = plt.figure() # Crea un gráfico con multiples figuras\n",
        "\n",
        "ax0 = fig.add_subplot(2, 2, 1)\n",
        "ax1 = fig.add_subplot(2, 2, 2)\n",
        "ax2 = fig.add_subplot(2, 2, 3)\n",
        "ax3 = fig.add_subplot(2, 2, 4)\n",
        "\n",
        "# Subplot 1, Variable 'Age'\n",
        "\n",
        "df['age'].plot.hist(color = 'green', figsize = (20, 10), ax = ax0)\n",
        "ax0.set_title('Pacient Age')\n",
        "ax0.set_xlabel('Age')\n",
        "ax0.set_ylabel('Count')\n",
        "\n",
        "# Subplot 2, Variable 'BMI'\n",
        "\n",
        "df['bmi'].plot.hist(color = 'red', figsize = (20, 10), ax = ax1)\n",
        "ax1.set_title('Pacient Body Mass Index')\n",
        "ax1.set_xlabel('bmi')\n",
        "ax1.set_ylabel('Count')\n",
        "\n",
        "# Subplot 3, Variable 'Height'\n",
        "\n",
        "df['height'].plot.hist(color = 'darkblue', figsize = (20, 10), ax = ax2)\n",
        "ax2.set_title('Pacient Height')\n",
        "ax2.set_xlabel('Height')\n",
        "ax2.set_ylabel('Count')\n",
        "\n",
        "# Subplot 4, Varieble 'Weight'\n",
        "\n",
        "df['weight'].plot.hist(color = 'gray', figsize = (20, 10), ax = ax3)\n",
        "ax3.set_title('Pacient Weight')\n",
        "ax3.set_xlabel('Weight')\n",
        "ax3.set_ylabel('Count')"
      ],
      "execution_count": null,
      "outputs": []
    },
    {
      "cell_type": "code",
      "metadata": {
        "id": "SBORidf-q9yb",
        "colab_type": "code",
        "colab": {}
      },
      "source": [
        "# Calculamos la media\n",
        "\n",
        "df[['age', 'bmi', 'height', 'weight']].mean()"
      ],
      "execution_count": null,
      "outputs": []
    },
    {
      "cell_type": "code",
      "metadata": {
        "id": "6MFI8gFjq9ye",
        "colab_type": "code",
        "colab": {}
      },
      "source": [
        "# Calculamos la mediana\n",
        "\n",
        "df_missing[['age', 'bmi', 'height', 'weight']].median()"
      ],
      "execution_count": null,
      "outputs": []
    },
    {
      "cell_type": "code",
      "metadata": {
        "id": "jFttV_qPq9yi",
        "colab_type": "code",
        "colab": {}
      },
      "source": [
        "# Cálculo de la media por columna\n",
        "\n",
        "avg_bmi = df_missing['bmi'].astype('float').mean(axis = 0)\n",
        "avg_height = df_missing['height'].astype('float').mean(axis = 0)\n",
        "avg_weight = df_missing['weight'].astype('float').mean(axis = 0)\n",
        "\n",
        "print(avg_bmi, avg_height, avg_weight)"
      ],
      "execution_count": null,
      "outputs": []
    },
    {
      "cell_type": "code",
      "metadata": {
        "id": "fJgQZZCQq9yl",
        "colab_type": "code",
        "colab": {}
      },
      "source": [
        "# Reemplazamos missing values con la media\n",
        "\n",
        "df['bmi'].replace(np.nan, avg_bmi, inplace = True)\n",
        "df['height'].replace(np.nan, avg_height, inplace = True)\n",
        "df['weight'].replace(np.nan, avg_weight, inplace = True)"
      ],
      "execution_count": null,
      "outputs": []
    },
    {
      "cell_type": "code",
      "metadata": {
        "id": "AMgtIwdPq9yo",
        "colab_type": "code",
        "colab": {}
      },
      "source": [
        "# Confirmación de que se modificaron los missing values en el dataset\n",
        "\n",
        "df[['bmi', 'height', 'weight']].count()"
      ],
      "execution_count": null,
      "outputs": []
    },
    {
      "cell_type": "code",
      "metadata": {
        "id": "R4aPDOLQq9ys",
        "colab_type": "code",
        "colab": {}
      },
      "source": [
        "# Cálculo de la Mediana\n",
        "\n",
        "median_age = df_missing['age'].astype('float').median(axis = 0)\n",
        "\n",
        "print(median_age)"
      ],
      "execution_count": null,
      "outputs": []
    },
    {
      "cell_type": "code",
      "metadata": {
        "id": "e-R1dOs_q9yu",
        "colab_type": "code",
        "colab": {}
      },
      "source": [
        "# Reemplazamos missing values con la mediana\n",
        "\n",
        "df['age'].replace(np.nan, median_age, inplace = True)"
      ],
      "execution_count": null,
      "outputs": []
    },
    {
      "cell_type": "code",
      "metadata": {
        "id": "U08ZC2Hpq9yx",
        "colab_type": "code",
        "colab": {}
      },
      "source": [
        "# Verificamos que ya no existen missing values\n",
        "\n",
        "df['age'].count()"
      ],
      "execution_count": null,
      "outputs": []
    },
    {
      "cell_type": "markdown",
      "metadata": {
        "id": "KhwNwnzDq9y0",
        "colab_type": "text"
      },
      "source": [
        "Luego de limpiar el dataset mediante filas y columnas solo existen 7 variables por lidiar:\n",
        "\n",
        "1. **'ethnicity':** 1395 missing data\n",
        "2. **'gender':** 25 missing data\n",
        "3. **'icu_admit_source':** 112 missing data\n",
        "3. **'apache_2_bodysystem':** 1662 missing data"
      ]
    },
    {
      "cell_type": "code",
      "metadata": {
        "id": "qTfG2P6Hq9y0",
        "colab_type": "code",
        "colab": {}
      },
      "source": [
        "df_missing[['ethnicity', 'gender', 'icu_admit_source', 'apache_2_bodysystem']].describe()"
      ],
      "execution_count": null,
      "outputs": []
    },
    {
      "cell_type": "code",
      "metadata": {
        "id": "gw3TIMdoq9y4",
        "colab_type": "code",
        "colab": {}
      },
      "source": [
        "fig1 = plt.figure() # Crea un gráfico con múltiples figuras\n",
        "\n",
        "ax4 = fig1.add_subplot(2, 2, 1)\n",
        "ax5 = fig1.add_subplot(2, 2, 2)\n",
        "ax6 = fig1.add_subplot(2, 2, 3)\n",
        "ax7 = fig1.add_subplot(2, 2, 4)\n",
        "\n",
        "# Subplot 1, Variable 'Age'\n",
        "\n",
        "df['ethnicity'].value_counts().plot.bar(color = 'green', figsize = (30, 20), ax = ax4)\n",
        "ax4.set_title('Pacient Ethnicity')\n",
        "ax4.set_ylabel('Count')\n",
        "\n",
        "# Subplot 2, Variable 'BMI'\n",
        "\n",
        "df['gender'].value_counts().plot.bar(color = 'red', figsize = (30, 20), ax = ax5)\n",
        "ax5.set_title('Pacient Gender')\n",
        "ax5.set_ylabel('Count')\n",
        "\n",
        "# Subplot 3, Variable 'Height'\n",
        "\n",
        "df['icu_admit_source'].value_counts().plot.bar(color = 'darkblue', figsize = (30, 20), ax = ax6)\n",
        "ax6.set_title('ICU Source')\n",
        "ax6.set_ylabel('Count')\n",
        "\n",
        "# Subplot 4, Varieble 'Weight'\n",
        "\n",
        "df['apache_2_bodysystem'].value_counts().plot.bar(color = 'gray', figsize = (30, 20), ax = ax7)\n",
        "ax7.set_title('Admission Diagnosis Group')\n",
        "ax7.set_ylabel('Count')"
      ],
      "execution_count": null,
      "outputs": []
    },
    {
      "cell_type": "code",
      "metadata": {
        "id": "ArzDg2a4q9y6",
        "colab_type": "code",
        "colab": {}
      },
      "source": [
        "# Calculamos la moda de las variables\n",
        "\n",
        "mode_ethnicity = df_missing['ethnicity'].mode()[0]\n",
        "mode_icu = df_missing['icu_admit_source'].mode()[0]\n",
        "mode_apache = df_missing['apache_2_bodysystem'].mode()[0]\n",
        "\n",
        "print('%s, %s, %s' %(mode_ethnicity, mode_icu, mode_apache))"
      ],
      "execution_count": null,
      "outputs": []
    },
    {
      "cell_type": "code",
      "metadata": {
        "id": "iDgE4LtDq9y9",
        "colab_type": "code",
        "colab": {}
      },
      "source": [
        "# Reemplazamos missing values con la moda\n",
        "\n",
        "df['ethnicity'].replace(np.nan, mode_ethnicity, inplace = True)\n",
        "df['icu_admit_source'].replace(np.nan, mode_icu, inplace = True)\n",
        "df['apache_2_bodysystem'].replace(np.nan, mode_apache, inplace = True)"
      ],
      "execution_count": null,
      "outputs": []
    },
    {
      "cell_type": "code",
      "metadata": {
        "id": "Ph0-k7gcq9y_",
        "colab_type": "code",
        "colab": {}
      },
      "source": [
        "df[['ethnicity', 'icu_admit_source', 'apache_2_bodysystem']].count()"
      ],
      "execution_count": null,
      "outputs": []
    },
    {
      "cell_type": "code",
      "metadata": {
        "id": "GcQo_Pucq9zC",
        "colab_type": "code",
        "colab": {}
      },
      "source": [
        "# Debido a que solo son 25 missing values de la variable gender, optamos por eliminar las filas\n",
        "\n",
        "df = df[df['gender'].notnull()]"
      ],
      "execution_count": null,
      "outputs": []
    },
    {
      "cell_type": "code",
      "metadata": {
        "id": "oA4zq-OVq9zF",
        "colab_type": "code",
        "colab": {}
      },
      "source": [
        "df.count()"
      ],
      "execution_count": null,
      "outputs": []
    },
    {
      "cell_type": "code",
      "metadata": {
        "id": "8vCnsTVCq9zK",
        "colab_type": "code",
        "colab": {}
      },
      "source": [
        "df.describe()"
      ],
      "execution_count": null,
      "outputs": []
    },
    {
      "cell_type": "code",
      "metadata": {
        "id": "vfefzfDbq9zN",
        "colab_type": "code",
        "colab": {}
      },
      "source": [
        "df.info()"
      ],
      "execution_count": null,
      "outputs": []
    }
  ]
}