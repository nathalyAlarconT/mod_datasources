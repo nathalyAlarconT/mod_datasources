{
  "nbformat": 4,
  "nbformat_minor": 0,
  "metadata": {
    "colab": {
      "name": "Unstructured_SocialMedia_Twitter.ipynb",
      "provenance": [],
      "collapsed_sections": [],
      "include_colab_link": true
    },
    "kernelspec": {
      "name": "python3",
      "display_name": "Python 3"
    }
  },
  "cells": [
    {
      "cell_type": "markdown",
      "metadata": {
        "id": "view-in-github",
        "colab_type": "text"
      },
      "source": [
        "<a href=\"https://colab.research.google.com/github/nathalyAlarconT/mod_datasources/blob/master/Unstructured_SocialMedia_Twitter.ipynb\" target=\"_parent\"><img src=\"https://colab.research.google.com/assets/colab-badge.svg\" alt=\"Open In Colab\"/></a>"
      ]
    },
    {
      "cell_type": "markdown",
      "metadata": {
        "id": "HJtCq5TYaEFE",
        "colab_type": "text"
      },
      "source": [
        "\n",
        "Inicialmente, debes recabar el token de tu cuenta de twitter, en la sección de aplicaciones:\n",
        "\n",
        "https://developer.twitter.com/\n",
        "\n"
      ]
    },
    {
      "cell_type": "code",
      "metadata": {
        "id": "kgOfWD5eLq1Y",
        "colab_type": "code",
        "colab": {}
      },
      "source": [
        "import tweepy\n",
        "import csv\n",
        "# import pandas as pd\n",
        "####input your credentials here\n",
        "\n",
        "consumer_key = 'WvOxM9QWOGUjdw5YzfsnuDaRc'\n",
        "consumer_secret = '6HPusgb4zGMbQkJ2NtC3wdVRuZytyQvZuQfJiZhbcSxYkN2NR0'\n",
        "access_token = ''\n",
        "access_token_secret = ''\n",
        "\n",
        "auth = tweepy.OAuthHandler(consumer_key, consumer_secret)\n",
        "auth.set_access_token(access_token, access_token_secret)\n",
        "api = tweepy.API(auth,wait_on_rate_limit=True)"
      ],
      "execution_count": null,
      "outputs": []
    },
    {
      "cell_type": "code",
      "metadata": {
        "id": "BDj4Cft_L1EM",
        "colab_type": "code",
        "colab": {}
      },
      "source": [
        "# Vamos a  guardar los tweets en un archivo .csv\n",
        "csvFile = open('tweets.csv', 'a+')\n",
        "#Usamos csv Writer\n",
        "csvWriter = csv.writer(csvFile)\n",
        "\n",
        "# Configuramos los términos de nuestra búsqueda.\n",
        "texto_a_buscar = '@elonmusk'\n",
        "cantidad_resultados = 10\n",
        "fechas_inicial = \"2020-02-01\"\n",
        "idioma = \"es\"\n",
        "\n",
        "\n",
        "i = 0\n",
        "for tweet in tweepy.Cursor(api.search,q=texto_a_buscar,\n",
        "                           lang=idioma,\n",
        "                           since=fechas_inicial).items(cantidad_resultados):\n",
        "    i = i + 1\n",
        "    print(\"\\n \", i,\".------------------------------------------------\")\n",
        "    print (tweet.created_at, '[', tweet.user.screen_name, ']', '\\n', tweet.text)\n",
        "\n",
        "    # Vamos a guardar el resultado de los tuits obtenidos en un archivo\n",
        "    csvWriter.writerow([tweet.created_at,tweet.user.screen_name, tweet.text.encode('utf-8')])\n",
        "csvFile.close()"
      ],
      "execution_count": null,
      "outputs": []
    },
    {
      "cell_type": "code",
      "metadata": {
        "id": "gGW7vcMD3yvp",
        "colab_type": "code",
        "colab": {}
      },
      "source": [
        "!head tweets.csv"
      ],
      "execution_count": null,
      "outputs": []
    },
    {
      "cell_type": "code",
      "metadata": {
        "id": "vu0-7wuvMGm-",
        "colab_type": "code",
        "colab": {}
      },
      "source": [
        "# Analizamos ahora el contenido de un tuit\n",
        "\n",
        "import json\n",
        "# convert to string\n",
        "json_str = json.dumps(tweet._json)\n",
        "\n",
        "#deserialise string into python object\n",
        "parsed = json.loads(json_str)\n",
        "\n",
        "print(json.dumps(parsed, indent=4, sort_keys=True))"
      ],
      "execution_count": null,
      "outputs": []
    }
  ]
}